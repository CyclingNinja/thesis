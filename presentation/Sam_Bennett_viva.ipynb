{
 "cells": [
  {
   "cell_type": "markdown",
   "metadata": {
    "nbpresent": {
     "id": "5dc47713-1f97-49e3-b6ce-dcf18e6dfc64"
    },
    "slideshow": {
     "slide_type": "slide"
    }
   },
   "source": [
    "# Macrospicules, Jets and the Solar Chromosphere\n",
    "\n",
    "## Samuel Bennett\n",
    "\n",
    "## Supervisor: Robertus Erdelyi"
   ]
  },
  {
   "cell_type": "markdown",
   "metadata": {
    "slideshow": {
     "slide_type": "slide"
    }
   },
   "source": [
    "## Outline\n",
    "\n",
    "+ Intention\n",
    "+ History\n",
    "+ Current Work\n",
    "+ The Statistics of Macrospicules\n",
    "+ Possible Relationship with an Active Longitude\n",
    "+ A detailed case study"
   ]
  }
 ],
 "metadata": {
  "anaconda-cloud": {},
  "celltoolbar": "Slideshow",
  "kernelspec": {
   "display_name": "Python [conda root]",
   "language": "python",
   "name": "conda-root-py"
  },
  "language_info": {
   "codemirror_mode": {
    "name": "ipython",
    "version": 3
   },
   "file_extension": ".py",
   "mimetype": "text/x-python",
   "name": "python",
   "nbconvert_exporter": "python",
   "pygments_lexer": "ipython3",
   "version": "3.5.2"
  },
  "nbpresent": {
   "slides": {
    "5eb07f79-12c2-4fb1-af12-ee4532f11c71": {
     "id": "5eb07f79-12c2-4fb1-af12-ee4532f11c71",
     "prev": null,
     "regions": {
      "a3957bb5-3cae-4e94-94b2-cd15196fb61c": {
       "attrs": {
        "height": 1,
        "width": 1,
        "x": 0,
        "y": 0
       },
       "id": "a3957bb5-3cae-4e94-94b2-cd15196fb61c"
      }
     }
    }
   },
   "themes": {}
  }
 },
 "nbformat": 4,
 "nbformat_minor": 1
}
